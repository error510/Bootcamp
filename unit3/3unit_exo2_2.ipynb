{
 "cells": [
  {
   "cell_type": "code",
   "execution_count": 7,
   "id": "407bf90b",
   "metadata": {},
   "outputs": [
    {
     "name": "stdout",
     "output_type": "stream",
     "text": [
      "Requirement already satisfied: scikit-learn in c:\\users\\blue\\anaconda3\\lib\\site-packages (1.0.2)\n",
      "Requirement already satisfied: numpy>=1.14.6 in c:\\users\\blue\\anaconda3\\lib\\site-packages (from scikit-learn) (1.21.5)\n",
      "Requirement already satisfied: threadpoolctl>=2.0.0 in c:\\users\\blue\\anaconda3\\lib\\site-packages (from scikit-learn) (2.2.0)\n",
      "Requirement already satisfied: scipy>=1.1.0 in c:\\users\\blue\\anaconda3\\lib\\site-packages (from scikit-learn) (1.7.3)\n",
      "Requirement already satisfied: joblib>=0.11 in c:\\users\\blue\\anaconda3\\lib\\site-packages (from scikit-learn) (1.1.0)\n"
     ]
    }
   ],
   "source": [
    "!pip install scikit-learn"
   ]
  },
  {
   "cell_type": "code",
   "execution_count": 2,
   "id": "f7348a67",
   "metadata": {},
   "outputs": [
    {
     "name": "stdout",
     "output_type": "stream",
     "text": [
      "<class 'pandas.core.frame.DataFrame'>\n",
      "RangeIndex: 150 entries, 0 to 149\n",
      "Data columns (total 5 columns):\n",
      " #   Column             Non-Null Count  Dtype  \n",
      "---  ------             --------------  -----  \n",
      " 0   sepal length (cm)  150 non-null    float64\n",
      " 1   sepal width (cm)   150 non-null    float64\n",
      " 2   petal length (cm)  150 non-null    float64\n",
      " 3   petal width (cm)   150 non-null    float64\n",
      " 4   flower type        150 non-null    int32  \n",
      "dtypes: float64(4), int32(1)\n",
      "memory usage: 5.4 KB\n"
     ]
    }
   ],
   "source": [
    "# importing the dataset\n",
    "from sklearn import datasets\n",
    "import pandas as pd \n",
    "\n",
    "df = pd.DataFrame(datasets.load_iris().data,columns = datasets.load_iris().feature_names)\n",
    "df[\"flower type\"] = datasets.load_iris().target\n",
    "df.info()\n",
    "\n"
   ]
  },
  {
   "cell_type": "code",
   "execution_count": 3,
   "id": "75047986",
   "metadata": {},
   "outputs": [
    {
     "name": "stdout",
     "output_type": "stream",
     "text": [
      "<class 'pandas.core.frame.DataFrame'>\n",
      "Int64Index: 146 entries, 0 to 149\n",
      "Data columns (total 5 columns):\n",
      " #   Column             Non-Null Count  Dtype  \n",
      "---  ------             --------------  -----  \n",
      " 0   sepal length (cm)  146 non-null    float64\n",
      " 1   sepal width (cm)   146 non-null    float64\n",
      " 2   petal length (cm)  146 non-null    float64\n",
      " 3   petal width (cm)   146 non-null    float64\n",
      " 4   flower type        146 non-null    int32  \n",
      "dtypes: float64(4), int32(1)\n",
      "memory usage: 6.3 KB\n"
     ]
    }
   ],
   "source": [
    "# cleaning \n",
    "for c in df.columns :\n",
    "    if c != \"flower type\" : \n",
    "        df[\"zscore\"] =((df[c] - df[c].mean())/df[c].std(ddof=0))\n",
    "        df = df[(abs(df[\"zscore\"])<3.5)]\n",
    "        df.drop(\"zscore\",axis=1,inplace=True)\n",
    "        Q1 = df[c].quantile(0.25)\n",
    "        Q3 = df[c].quantile(0.75)\n",
    "        IQR = Q3 - Q1 \n",
    "        df = df[(df[c] > (Q1 - 1.5 * IQR)) & (df[c] < (Q3 + 1.5 * IQR))]\n",
    "    \n",
    "df.info()\n"
   ]
  },
  {
   "cell_type": "code",
   "execution_count": 4,
   "id": "51f42327",
   "metadata": {},
   "outputs": [
    {
     "name": "stdout",
     "output_type": "stream",
     "text": [
      "accuracy of  0.9315068493150684\n"
     ]
    }
   ],
   "source": [
    "#training a model \n",
    "from sklearn.linear_model import LogisticRegression\n",
    "import sklearn.model_selection as skm \n",
    "from sklearn.metrics import accuracy_score,auc\n",
    "from sklearn.preprocessing import label_binarize\n",
    "import numpy as np\n",
    "#training a model \n",
    "\n",
    "y = df[\"flower type\"].values\n",
    "x = df.drop(['flower type'],axis = 1).values\n",
    "\n",
    "x_train, x_test , y_train , y_test =  skm.train_test_split(x,y,test_size = .5 , random_state = 0 )\n",
    "model = LogisticRegression() \n",
    "model.fit(x_train , y_train)\n",
    "\n",
    "y_pre = model.predict(x_test)\n",
    "print(\"accuracy of \",accuracy_score(y_test,y_pre))\n",
    "\n"
   ]
  },
  {
   "cell_type": "code",
   "execution_count": 20,
   "id": "3c388012",
   "metadata": {},
   "outputs": [
    {
     "name": "stdout",
     "output_type": "stream",
     "text": [
      "the Confusion matrix :\n",
      "\n",
      " [[21  0  0]\n",
      " [ 0 24  2]\n",
      " [ 0  3 23]] \n",
      "\n",
      "\n",
      "log loss : 0.18546690281830547 \n",
      "\n"
     ]
    },
    {
     "data": {
      "image/png": "[encoded data removed]",
      "text/plain": [
       "<Figure size 432x288 with 1 Axes>"
      ]
     },
     "metadata": {
      "needs_background": "light"
     },
     "output_type": "display_data"
    },
    {
     "name": "stdout",
     "output_type": "stream",
     "text": [
      "\n",
      "classification report :\n",
      "\n",
      "               precision    recall  f1-score   support\n",
      "\n",
      "      setosa       1.00      1.00      1.00        21\n",
      "  versicolor       0.89      0.92      0.91        26\n",
      "   virginica       0.92      0.88      0.90        26\n",
      "\n",
      "    accuracy                           0.93        73\n",
      "   macro avg       0.94      0.94      0.94        73\n",
      "weighted avg       0.93      0.93      0.93        73\n",
      "\n"
     ]
    }
   ],
   "source": [
    "#classification report\n",
    "from sklearn.metrics import classification_report, confusion_matrix , roc_curve,log_loss,roc_auc_score\n",
    "import random\n",
    "import matplotlib.pyplot as plt\n",
    "\n",
    "\n",
    "#Confusion matrix\n",
    "print(\"the Confusion matrix :\\n\\n\",confusion_matrix(y_test, y_pre),\"\\n\\n\")\n",
    "\n",
    "#log loss\n",
    "print(\"log loss :\",log_loss(y_test, model.predict_proba(x_test)),\"\\n\")\n",
    "\n",
    "\n",
    "#roc\n",
    "\n",
    "FalseP = dict()\n",
    "TrueP = dict()\n",
    "roc_AreaUnderCurve = dict()\n",
    "\n",
    "for i in range(1,3):\n",
    "    color = (round(random.uniform(0, 1),1), round(random.uniform(0, 1),1), round(random.uniform(0, 1),1))\n",
    "    FalseP[i], TrueP[i], _ = roc_curve(label_binarize(y_train,classes=[0, 1, 2])[:,i], model.predict_proba(x_test)[:, i])\n",
    "    roc_AreaUnderCurve[i] = auc(FalseP[i], TrueP[i])\n",
    "    plt.plot(FalseP[i], TrueP[i],color = color,linewidth=1.1, marker='.',markersize=2,label=\"%s- area = %.3f\" %(datasets.load_iris().target_names[i],roc_AreaUnderCurve[i]))\n",
    "\n",
    "plt.plot([1,0],[1,0],color = (0,0,0),linewidth=1,ls = \"--\")\n",
    "plt.xlabel(\"False positive rate\") \n",
    "plt.ylabel(\"True Positive Rate\")\n",
    "plt.title(\"ROC\") \n",
    "plt.legend(loc='lower right')\n",
    "plt.show()\n",
    "\n",
    "\n",
    "#classification_report\n",
    "print(\"\\nclassification report :\\n\\n\",classification_report(y_test, y_pre, target_names=datasets.load_iris().target_names))\n",
    "\n",
    "\n",
    "\n",
    "# the model predicted the setosa class correctly 100% \n",
    "# while out of the flowers the model predicted to be versicolor/virginica the prediction was correct by 88%/97% (respectively)\n",
    "\n",
    "# when the correct answers was the of class setosa the model predicted it correctly 100%\n",
    "# and when the answer was virginica/versicolor the model predected this class to be the correct one by 89%/97%\n",
    "\n",
    "# when it comes to class 1 the model is accurate 100% and 92% for 2nd class then 93% for the 3rd one \n",
    "\n"
   ]
  }
 ],
 "metadata": {
  "kernelspec": {
   "display_name": "Python 3 (ipykernel)",
   "language": "python",
   "name": "python3"
  },
  "language_info": {
   "codemirror_mode": {
    "name": "ipython",
    "version": 3
   },
   "file_extension": ".py",
   "mimetype": "text/x-python",
   "name": "python",
   "nbconvert_exporter": "python",
   "pygments_lexer": "ipython3",
   "version": "3.9.12"
  }
 },
 "nbformat": 4,
 "nbformat_minor": 5
}
