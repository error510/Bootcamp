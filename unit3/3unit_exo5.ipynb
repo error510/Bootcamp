{
 "cells": [
  {
   "cell_type": "code",
   "execution_count": 1,
   "id": "8bab673f",
   "metadata": {},
   "outputs": [],
   "source": [
    "from sklearn import datasets\n",
    "from PIL import Image   \n",
    "import numpy as np\n",
    "import matplotlib.pyplot as plt\n",
    "from sklearn.model_selection import train_test_split,GridSearchCV\n",
    "from sklearn import svm \n",
    "from sklearn.metrics import classification_report \n",
    "\n",
    "#Grid search \n",
    "\n",
    "x,y = datasets.load_digits(return_X_y = True )\n",
    "x_train,x_test,y_train,y_test = train_test_split(x,y,test_size = .3 , random_state = np.random.RandomState(1618))\n"
   ]
  },
  {
   "cell_type": "code",
   "execution_count": 2,
   "id": "2d12ae10",
   "metadata": {},
   "outputs": [
    {
     "name": "stdout",
     "output_type": "stream",
     "text": [
      "CPU times: user 3.74 s, sys: 204 ms, total: 3.94 s\n",
      "Wall time: 1min 12s\n"
     ]
    },
    {
     "data": {
      "text/plain": [
       "GridSearchCV(estimator=SVC(), n_jobs=-1,\n",
       "             param_grid=[{'C': [0.03125, 0.125, 32, 1024, 32768],\n",
       "                          'gamma': [0.03125, 0.0625, 0.125, 0.5, 1, 8, 32],\n",
       "                          'kernel': ['linear', 'poly', 'rbf'],\n",
       "                          'random_state': [42, 100, 120, 1, 0]}],\n",
       "             scoring='accuracy')"
      ]
     },
     "execution_count": 2,
     "metadata": {},
     "output_type": "execute_result"
    }
   ],
   "source": [
    "%%time\n",
    "params = [{\"C\" : [2**-5,2**-3,2**5,2**10,2**15],\"gamma\" : [2**-5 , 2**-4 , 2**-3 , 2**-1 , 1 , 2**3 , 2**5],\n",
    "           'kernel' : ['linear', 'poly', 'rbf'] , \"random_state\" : [42,100,120,1,0] } ]\n",
    "score = [\"roc_auc\" , \"accuracy\" , \"f1\",\"precision\",\"recall\"]\n",
    "model = GridSearchCV(svm.SVC(),params,scoring = \"accuracy\",n_jobs = -1)\n",
    "model.fit(x_train,y_train)"
   ]
  },
  {
   "cell_type": "code",
   "execution_count": 3,
   "id": "e6803781",
   "metadata": {},
   "outputs": [
    {
     "name": "stdout",
     "output_type": "stream",
     "text": [
      "best parameters :  {'C': 0.03125, 'gamma': 0.03125, 'kernel': 'poly', 'random_state': 42}\n"
     ]
    }
   ],
   "source": [
    "print(\"best parameters : \",model.best_params_)"
   ]
  },
  {
   "cell_type": "code",
   "execution_count": 4,
   "id": "8719b7ae",
   "metadata": {},
   "outputs": [
    {
     "name": "stdout",
     "output_type": "stream",
     "text": [
      "the model got 5 classes wrong out of 540\n"
     ]
    }
   ],
   "source": [
    "pre_y = model.predict(x_test)\n",
    "print(\"the model got %d classes wrong out of %d\" %(-(pre_y == y_test).sum()+(pre_y == y_test).size,(pre_y == y_test).size))"
   ]
  },
  {
   "cell_type": "code",
   "execution_count": 5,
   "id": "6f3f03fc",
   "metadata": {},
   "outputs": [
    {
     "name": "stdout",
     "output_type": "stream",
     "text": [
      "classification report :               precision    recall  f1-score   support\n",
      "\n",
      "           0       1.00      1.00      1.00        53\n",
      "           1       0.96      1.00      0.98        50\n",
      "           2       1.00      1.00      1.00        61\n",
      "           3       0.98      1.00      0.99        54\n",
      "           4       1.00      1.00      1.00        49\n",
      "           5       1.00      0.97      0.98        62\n",
      "           6       1.00      1.00      1.00        55\n",
      "           7       1.00      1.00      1.00        51\n",
      "           8       1.00      0.96      0.98        53\n",
      "           9       0.96      0.98      0.97        52\n",
      "\n",
      "    accuracy                           0.99       540\n",
      "   macro avg       0.99      0.99      0.99       540\n",
      "weighted avg       0.99      0.99      0.99       540\n",
      "\n"
     ]
    }
   ],
   "source": [
    "print(\"classification report :\",classification_report(y_test,pre_y))"
   ]
  },
  {
   "cell_type": "code",
   "execution_count": 6,
   "id": "3c3f62a7",
   "metadata": {},
   "outputs": [],
   "source": [
    "import warnings \n",
    "warnings.filterwarnings(\"ignore\")"
   ]
  },
  {
   "cell_type": "code",
   "execution_count": 3,
   "id": "1c10ddae-c022-44b8-a0b9-8c2417587ce4",
   "metadata": {},
   "outputs": [
    {
     "name": "stdout",
     "output_type": "stream",
     "text": [
      "Collecting auto-sklearn\n",
      "  Downloading auto-sklearn-0.12.7.tar.gz (6.3 MB)\n",
      "     |████████████████████████████████| 6.3 MB 15.8 MB/s            \n",
      "\u001b[?25h  Preparing metadata (setup.py) ... \u001b[?25ldone\n",
      "\u001b[?25hRequirement already satisfied: setuptools in /usr/local/lib/python3.6/dist-packages (from auto-sklearn) (49.2.1)\n",
      "Requirement already satisfied: numpy>=1.9.0 in /usr/local/lib/python3.6/dist-packages (from auto-sklearn) (1.19.5)\n",
      "Requirement already satisfied: scipy<1.7,>=0.14.1 in /usr/local/lib/python3.6/dist-packages (from auto-sklearn) (1.4.1)\n",
      "Requirement already satisfied: joblib in /usr/local/lib/python3.6/dist-packages (from auto-sklearn) (1.1.0)\n",
      "Requirement already satisfied: scikit-learn<0.25.0,>=0.24.0 in /usr/local/lib/python3.6/dist-packages (from auto-sklearn) (0.24.2)\n",
      "Collecting dask\n",
      "  Downloading dask-2021.3.0-py3-none-any.whl (925 kB)\n",
      "     |████████████████████████████████| 925 kB 105.3 MB/s            \n",
      "\u001b[?25hCollecting distributed>=2.2.0\n",
      "  Downloading distributed-2021.3.0-py3-none-any.whl (675 kB)\n",
      "     |████████████████████████████████| 675 kB 63.6 MB/s            \n",
      "\u001b[?25hRequirement already satisfied: pyyaml in /usr/local/lib/python3.6/dist-packages (from auto-sklearn) (5.3.1)\n",
      "Requirement already satisfied: pandas>=1.0 in /usr/local/lib/python3.6/dist-packages (from auto-sklearn) (1.1.5)\n",
      "Collecting liac-arff\n",
      "  Downloading liac-arff-2.5.0.tar.gz (13 kB)\n",
      "  Preparing metadata (setup.py) ... \u001b[?25ldone\n",
      "\u001b[?25hCollecting ConfigSpace<0.5,>=0.4.14\n",
      "  Downloading ConfigSpace-0.4.19-cp36-cp36m-manylinux2014_x86_64.whl (4.2 MB)\n",
      "     |████████████████████████████████| 4.2 MB 57.2 MB/s            \n",
      "\u001b[?25hCollecting pynisher>=0.6.3\n",
      "  Downloading pynisher-0.6.4.tar.gz (11 kB)\n",
      "  Preparing metadata (setup.py) ... \u001b[?25ldone\n",
      "\u001b[?25hCollecting pyrfr<0.9,>=0.8.1\n",
      "  Downloading pyrfr-0.8.2-cp36-cp36m-manylinux2014_x86_64.whl (3.9 MB)\n",
      "     |████████████████████████████████| 3.9 MB 69.2 MB/s            \n",
      "\u001b[?25hCollecting smac<0.14,>=0.13.1\n",
      "  Downloading smac-0.13.1.tar.gz (258 kB)\n",
      "     |████████████████████████████████| 258 kB 100.5 MB/s            \n",
      "\u001b[?25h  Preparing metadata (setup.py) ... \u001b[?25ldone\n",
      "\u001b[?25hCollecting cython\n",
      "  Downloading Cython-0.29.30-cp36-cp36m-manylinux_2_17_x86_64.manylinux2014_x86_64.manylinux_2_24_x86_64.whl (2.0 MB)\n",
      "     |████████████████████████████████| 2.0 MB 103.5 MB/s            \n",
      "\u001b[?25hRequirement already satisfied: pyparsing in /usr/local/lib/python3.6/dist-packages (from ConfigSpace<0.5,>=0.4.14->auto-sklearn) (2.4.7)\n",
      "Collecting toolz>=0.8.2\n",
      "  Downloading toolz-0.11.2-py3-none-any.whl (55 kB)\n",
      "     |████████████████████████████████| 55 kB 6.6 MB/s             \n",
      "\u001b[?25hRequirement already satisfied: psutil>=5.0 in /usr/local/lib/python3.6/dist-packages (from distributed>=2.2.0->auto-sklearn) (5.7.0)\n",
      "Collecting click>=6.6\n",
      "  Downloading click-8.0.4-py3-none-any.whl (97 kB)\n",
      "     |████████████████████████████████| 97 kB 12.6 MB/s            \n",
      "\u001b[?25hCollecting zict>=0.1.3\n",
      "  Downloading zict-2.1.0-py3-none-any.whl (11 kB)\n",
      "Requirement already satisfied: tornado>=5 in /usr/local/lib/python3.6/dist-packages (from distributed>=2.2.0->auto-sklearn) (6.1)\n",
      "Requirement already satisfied: contextvars in /usr/local/lib/python3.6/dist-packages (from distributed>=2.2.0->auto-sklearn) (2.4)\n",
      "Collecting sortedcontainers!=2.0.0,!=2.0.1\n",
      "  Downloading sortedcontainers-2.4.0-py2.py3-none-any.whl (29 kB)\n",
      "Collecting tblib>=1.6.0\n",
      "  Downloading tblib-1.7.0-py2.py3-none-any.whl (12 kB)\n",
      "Requirement already satisfied: cloudpickle>=1.5.0 in /usr/local/lib/python3.6/dist-packages (from distributed>=2.2.0->auto-sklearn) (1.5.0)\n",
      "Collecting msgpack>=0.6.0\n",
      "  Downloading msgpack-1.0.4-cp36-cp36m-manylinux_2_17_x86_64.manylinux2014_x86_64.whl (300 kB)\n",
      "     |████████████████████████████████| 300 kB 98.1 MB/s            \n",
      "\u001b[?25hRequirement already satisfied: python-dateutil>=2.7.3 in /usr/local/lib/python3.6/dist-packages (from pandas>=1.0->auto-sklearn) (2.8.1)\n",
      "Requirement already satisfied: pytz>=2017.2 in /usr/local/lib/python3.6/dist-packages (from pandas>=1.0->auto-sklearn) (2021.3)\n",
      "Requirement already satisfied: threadpoolctl>=2.0.0 in /usr/local/lib/python3.6/dist-packages (from scikit-learn<0.25.0,>=0.24.0->auto-sklearn) (3.1.0)\n",
      "Collecting lazy_import\n",
      "  Downloading lazy_import-0.2.2.tar.gz (15 kB)\n",
      "  Preparing metadata (setup.py) ... \u001b[?25ldone\n",
      "\u001b[?25hRequirement already satisfied: importlib-metadata in /usr/local/lib/python3.6/dist-packages (from click>=6.6->distributed>=2.2.0->auto-sklearn) (1.7.0)\n",
      "Requirement already satisfied: six>=1.5 in /usr/local/lib/python3.6/dist-packages (from python-dateutil>=2.7.3->pandas>=1.0->auto-sklearn) (1.15.0)\n",
      "Collecting heapdict\n",
      "  Downloading HeapDict-1.0.1-py3-none-any.whl (3.9 kB)\n",
      "Requirement already satisfied: immutables>=0.9 in /usr/local/lib/python3.6/dist-packages (from contextvars->distributed>=2.2.0->auto-sklearn) (0.16)\n",
      "Requirement already satisfied: typing-extensions>=3.7.4.3 in /usr/local/lib/python3.6/dist-packages (from immutables>=0.9->contextvars->distributed>=2.2.0->auto-sklearn) (4.1.1)\n",
      "Requirement already satisfied: zipp>=0.5 in /usr/local/lib/python3.6/dist-packages (from importlib-metadata->click>=6.6->distributed>=2.2.0->auto-sklearn) (3.1.0)\n",
      "Building wheels for collected packages: auto-sklearn, pynisher, smac, liac-arff, lazy-import\n",
      "  Building wheel for auto-sklearn (setup.py) ... \u001b[?25ldone\n",
      "\u001b[?25h  Created wheel for auto-sklearn: filename=auto_sklearn-0.12.7-py3-none-any.whl size=6558374 sha256=61edb495a97a0bf2d0ad9d700201cf6ae3827f7115c3a0dd54aaa161390c769a\n",
      "  Stored in directory: /root/.cache/pip/wheels/47/ce/21/60f7cab8edba0cf983b3f77bbd64705f31d78916a04e7b41f0\n",
      "  Building wheel for pynisher (setup.py) ... \u001b[?25ldone\n",
      "\u001b[?25h  Created wheel for pynisher: filename=pynisher-0.6.4-py3-none-any.whl size=7043 sha256=96c6729850956f20d0025f35fd6e63f6cc1085a7fd925f09cbcc83cfa449ff60\n",
      "  Stored in directory: /root/.cache/pip/wheels/69/e4/a2/9835f7589fd514dd4e1628e254c2f739036d864897892ffc89\n",
      "  Building wheel for smac (setup.py) ... \u001b[?25ldone\n",
      "\u001b[?25h  Created wheel for smac: filename=smac-0.13.1-py3-none-any.whl size=252179 sha256=76f19b6f177bd5719296e0784205c2997d5ade297199e05ddda938d353f60cd0\n",
      "  Stored in directory: /root/.cache/pip/wheels/ac/f4/c2/676447d2aece2a4e72b69106eefe855cd9a1840f5131e002b2\n",
      "  Building wheel for liac-arff (setup.py) ... \u001b[?25ldone\n",
      "\u001b[?25h  Created wheel for liac-arff: filename=liac_arff-2.5.0-py3-none-any.whl size=11731 sha256=3609acd897483df35463cb1c37cbbc2e5f948229fa2c8e80b38ba5908a956791\n",
      "  Stored in directory: /root/.cache/pip/wheels/53/ba/da/8562a6a6dbb428fd1ecc21053106df3948645cd991958f669b\n",
      "  Building wheel for lazy-import (setup.py) ... \u001b[?25ldone\n",
      "\u001b[?25h  Created wheel for lazy-import: filename=lazy_import-0.2.2-py2.py3-none-any.whl size=16485 sha256=04277112853a454a2cadd6558de15abab57a42a272e00b76d225c27dff17a3ba\n",
      "  Stored in directory: /root/.cache/pip/wheels/17/50/26/ce02ea7836dd4332430279328e11e80c67270ffc5ee17b2932\n",
      "Successfully built auto-sklearn pynisher smac liac-arff lazy-import\n",
      "Installing collected packages: heapdict, zict, toolz, tblib, sortedcontainers, msgpack, dask, cython, click, pyrfr, pynisher, lazy-import, distributed, ConfigSpace, smac, liac-arff, auto-sklearn\n",
      "Successfully installed ConfigSpace-0.4.19 auto-sklearn-0.12.7 click-8.0.4 cython-0.29.30 dask-2021.3.0 distributed-2021.3.0 heapdict-1.0.1 lazy-import-0.2.2 liac-arff-2.5.0 msgpack-1.0.4 pynisher-0.6.4 pyrfr-0.8.2 smac-0.13.1 sortedcontainers-2.4.0 tblib-1.7.0 toolz-0.11.2 zict-2.1.0\n",
      "\u001b[33mWARNING: Running pip as the 'root' user can result in broken permissions and conflicting behaviour with the system package manager. It is recommended to use a virtual environment instead: https://pip.pypa.io/warnings/venv\u001b[0m\n"
     ]
    }
   ],
   "source": [
    "!pip3 install auto-sklearn"
   ]
  },
  {
   "cell_type": "code",
   "execution_count": 11,
   "id": "234a8b1c",
   "metadata": {},
   "outputs": [],
   "source": [
    "# auto ML\n",
    "import autosklearn.classification as aml\n",
    "\n",
    "model2 = aml.AutoSklearnClassifier(time_left_for_this_task=60, per_run_time_limit=60,n_jobs=-1)"
   ]
  },
  {
   "cell_type": "code",
   "execution_count": 12,
   "id": "43e951e7",
   "metadata": {},
   "outputs": [
    {
     "name": "stdout",
     "output_type": "stream",
     "text": [
      "auto-sklearn results:\n",
      "  Dataset name: 2d52c1be-f566-11ec-80ef-0242ac120003\n",
      "  Metric: accuracy\n",
      "  Best validation score: 0.990361\n",
      "  Number of target algorithm runs: 19\n",
      "  Number of successful target algorithm runs: 12\n",
      "  Number of crashed target algorithm runs: 0\n",
      "  Number of target algorithms that exceeded the time limit: 6\n",
      "  Number of target algorithms that exceeded the memory limit: 1\n",
      "\n",
      "\n",
      " the model got 5 classes wrong out of 540\n",
      "CPU times: user 8.62 s, sys: 1.67 s, total: 10.3 s\n",
      "Wall time: 51.6 s\n"
     ]
    }
   ],
   "source": [
    "%%time\n",
    "model2.fit(x_train,y_train)\n",
    "y_pre = model.predict(x_test)\n",
    "print(model2.sprint_statistics())\n",
    "print(\"\\n the model got %d classes wrong out of %d\" %(-(y_pre == y_test).sum()+(y_pre == y_test).size,(y_pre == y_test).size))"
   ]
  },
  {
   "cell_type": "code",
   "execution_count": null,
   "id": "30f3462c-c8fc-40c3-ba68-6e8c9a911945",
   "metadata": {},
   "outputs": [],
   "source": [
    "#they got approximately the same results but the fastest method is the first one based on cpu time "
   ]
  }
 ],
 "metadata": {
  "kernelspec": {
   "display_name": "Python 3 (ipykernel)",
   "language": "python",
   "name": "python3"
  },
  "language_info": {
   "codemirror_mode": {
    "name": "ipython",
    "version": 3
   },
   "file_extension": ".py",
   "mimetype": "text/x-python",
   "name": "python",
   "nbconvert_exporter": "python",
   "pygments_lexer": "ipython3",
   "version": "3.9.12"
  }
 },
 "nbformat": 4,
 "nbformat_minor": 5
}
