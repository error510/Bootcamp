{
 "cells": [
  {
   "cell_type": "code",
   "execution_count": 285,
   "id": "dd695f3f",
   "metadata": {},
   "outputs": [
    {
     "name": "stdout",
     "output_type": "stream",
     "text": [
      "<class 'pandas.core.frame.DataFrame'>\n",
      "RangeIndex: 569 entries, 0 to 568\n",
      "Data columns (total 31 columns):\n",
      " #   Column                   Non-Null Count  Dtype  \n",
      "---  ------                   --------------  -----  \n",
      " 0   mean radius              569 non-null    float64\n",
      " 1   mean texture             569 non-null    float64\n",
      " 2   mean perimeter           569 non-null    float64\n",
      " 3   mean area                569 non-null    float64\n",
      " 4   mean smoothness          569 non-null    float64\n",
      " 5   mean compactness         569 non-null    float64\n",
      " 6   mean concavity           569 non-null    float64\n",
      " 7   mean concave points      569 non-null    float64\n",
      " 8   mean symmetry            569 non-null    float64\n",
      " 9   mean fractal dimension   569 non-null    float64\n",
      " 10  radius error             569 non-null    float64\n",
      " 11  texture error            569 non-null    float64\n",
      " 12  perimeter error          569 non-null    float64\n",
      " 13  area error               569 non-null    float64\n",
      " 14  smoothness error         569 non-null    float64\n",
      " 15  compactness error        569 non-null    float64\n",
      " 16  concavity error          569 non-null    float64\n",
      " 17  concave points error     569 non-null    float64\n",
      " 18  symmetry error           569 non-null    float64\n",
      " 19  fractal dimension error  569 non-null    float64\n",
      " 20  worst radius             569 non-null    float64\n",
      " 21  worst texture            569 non-null    float64\n",
      " 22  worst perimeter          569 non-null    float64\n",
      " 23  worst area               569 non-null    float64\n",
      " 24  worst smoothness         569 non-null    float64\n",
      " 25  worst compactness        569 non-null    float64\n",
      " 26  worst concavity          569 non-null    float64\n",
      " 27  worst concave points     569 non-null    float64\n",
      " 28  worst symmetry           569 non-null    float64\n",
      " 29  worst fractal dimension  569 non-null    float64\n",
      " 30  malignant/benign         569 non-null    int32  \n",
      "dtypes: float64(30), int32(1)\n",
      "memory usage: 135.7 KB\n"
     ]
    }
   ],
   "source": [
    "from sklearn.datasets import load_breast_cancer\n",
    "import pandas as pd \n",
    "\n",
    "df = pd.DataFrame(load_breast_cancer().data,columns = load_breast_cancer().feature_names)\n",
    "df[\"malignant/benign\"] = load_breast_cancer().target \n",
    "df.info()\n"
   ]
  },
  {
   "cell_type": "code",
   "execution_count": 286,
   "id": "b204d6a9",
   "metadata": {},
   "outputs": [
    {
     "name": "stdout",
     "output_type": "stream",
     "text": [
      "<class 'pandas.core.frame.DataFrame'>\n",
      "Int64Index: 488 entries, 1 to 568\n",
      "Data columns (total 31 columns):\n",
      " #   Column                   Non-Null Count  Dtype  \n",
      "---  ------                   --------------  -----  \n",
      " 0   mean radius              488 non-null    float64\n",
      " 1   mean texture             488 non-null    float64\n",
      " 2   mean perimeter           488 non-null    float64\n",
      " 3   mean area                488 non-null    float64\n",
      " 4   mean smoothness          488 non-null    float64\n",
      " 5   mean compactness         488 non-null    float64\n",
      " 6   mean concavity           488 non-null    float64\n",
      " 7   mean concave points      488 non-null    float64\n",
      " 8   mean symmetry            488 non-null    float64\n",
      " 9   mean fractal dimension   488 non-null    float64\n",
      " 10  radius error             488 non-null    float64\n",
      " 11  texture error            488 non-null    float64\n",
      " 12  perimeter error          488 non-null    float64\n",
      " 13  area error               488 non-null    float64\n",
      " 14  smoothness error         488 non-null    float64\n",
      " 15  compactness error        488 non-null    float64\n",
      " 16  concavity error          488 non-null    float64\n",
      " 17  concave points error     488 non-null    float64\n",
      " 18  symmetry error           488 non-null    float64\n",
      " 19  fractal dimension error  488 non-null    float64\n",
      " 20  worst radius             488 non-null    float64\n",
      " 21  worst texture            488 non-null    float64\n",
      " 22  worst perimeter          488 non-null    float64\n",
      " 23  worst area               488 non-null    float64\n",
      " 24  worst smoothness         488 non-null    float64\n",
      " 25  worst compactness        488 non-null    float64\n",
      " 26  worst concavity          488 non-null    float64\n",
      " 27  worst concave points     488 non-null    float64\n",
      " 28  worst symmetry           488 non-null    float64\n",
      " 29  worst fractal dimension  488 non-null    float64\n",
      " 30  malignant/benign         488 non-null    int32  \n",
      "dtypes: float64(30), int32(1)\n",
      "memory usage: 120.1 KB\n"
     ]
    }
   ],
   "source": [
    "col = list(df.columns)\n",
    "col.remove('malignant/benign')\n",
    "for c in col :\n",
    "        df[\"zscore\"] =((df[c] - df[c].mean())/df[c].std(ddof=0))\n",
    "        df = df[(abs(df[\"zscore\"])<3.55)]\n",
    "        df.drop(\"zscore\",axis=1,inplace=True)\n",
    "    \n",
    "df.info()\n"
   ]
  },
  {
   "cell_type": "code",
   "execution_count": 287,
   "id": "c37c738b",
   "metadata": {},
   "outputs": [],
   "source": [
    "#splitting the data  \n",
    "from sklearn.model_selection import train_test_split \n",
    "\n",
    "x = df.drop([\"malignant/benign\"],axis = 1).values\n",
    "y = df[\"malignant/benign\"].values \n",
    "\n",
    "x_train,x_test,y_train,y_test = train_test_split(x,y,test_size = .3)"
   ]
  },
  {
   "cell_type": "code",
   "execution_count": 288,
   "id": "6331816a",
   "metadata": {},
   "outputs": [
    {
     "name": "stdout",
     "output_type": "stream",
     "text": [
      "\n",
      "classification report :\n",
      "\n",
      "               precision    recall  f1-score   support\n",
      "\n",
      "   malignant       0.92      0.92      0.92        48\n",
      "      benign       0.96      0.96      0.96        99\n",
      "\n",
      "    accuracy                           0.95       147\n",
      "   macro avg       0.94      0.94      0.94       147\n",
      "weighted avg       0.95      0.95      0.95       147\n",
      "\n",
      "the accuracy: 0.9456 \n"
     ]
    }
   ],
   "source": [
    "#Naive Bayes\n",
    "from sklearn.naive_bayes import GaussianNB\n",
    "from sklearn.metrics import classification_report, confusion_matrix , accuracy_score\n",
    "import random\n",
    "from sklearn.preprocessing import label_binarize\n",
    "from sklearn import svm\n",
    "\n",
    "model = GaussianNB()\n",
    "model.fit(x_train,y_train)\n",
    "y_pre = model.predict(x_test)\n",
    "\n",
    "\n",
    "#classification_report\n",
    "print(\"\\nclassification report :\\n\\n\",classification_report(y_test, y_pre, target_names=load_breast_cancer().target_names))\n",
    "print(\"the accuracy: %.4f \"%accuracy_score(y_test,y_pre))\n"
   ]
  },
  {
   "cell_type": "code",
   "execution_count": 289,
   "id": "f2888556",
   "metadata": {},
   "outputs": [
    {
     "name": "stdout",
     "output_type": "stream",
     "text": [
      "\n",
      "classification report :\n",
      "\n",
      "               precision    recall  f1-score   support\n",
      "\n",
      "   malignant       0.95      0.85      0.90        48\n",
      "      benign       0.93      0.98      0.96        99\n",
      "\n",
      "    accuracy                           0.94       147\n",
      "   macro avg       0.94      0.92      0.93       147\n",
      "weighted avg       0.94      0.94      0.94       147\n",
      "\n",
      "the accuracy: 0.9388 \n"
     ]
    }
   ],
   "source": [
    "#SVM\n",
    "model2 = svm.SVC()\n",
    "model2.fit(x_train,y_train)\n",
    "y_pre = model2.predict(x_test)\n",
    "\n",
    "#classification_report\n",
    "print(\"\\nclassification report :\\n\\n\",classification_report(y_test, y_pre, target_names=load_breast_cancer().target_names,zero_division=0))\n",
    "print(\"the accuracy: %.4f \"%accuracy_score(y_test,y_pre))\n"
   ]
  },
  {
   "cell_type": "code",
   "execution_count": 290,
   "id": "2b3b9440",
   "metadata": {
    "scrolled": true
   },
   "outputs": [
    {
     "name": "stdout",
     "output_type": "stream",
     "text": [
      "\n",
      "classification report :\n",
      "\n",
      "               precision    recall  f1-score   support\n",
      "\n",
      "   malignant       0.84      0.90      0.87        48\n",
      "      benign       0.95      0.92      0.93        99\n",
      "\n",
      "    accuracy                           0.91       147\n",
      "   macro avg       0.90      0.91      0.90       147\n",
      "weighted avg       0.91      0.91      0.91       147\n",
      "\n",
      "the accuracy: 0.9116 \n"
     ]
    }
   ],
   "source": [
    "from sklearn.tree import DecisionTreeClassifier\n",
    "from sklearn import tree\n",
    "import matplotlib.pyplot as plt\n",
    "\n",
    "model3 = DecisionTreeClassifier(criterion=\"entropy\")\n",
    "model3.fit(x_train,y_train)\n",
    "\n",
    "y_pre = model3.predict(x_test)\n",
    "\n",
    "#classification_report\n",
    "print(\"\\nclassification report :\\n\\n\",classification_report(y_test, y_pre, target_names=load_breast_cancer().target_names,zero_division=0))\n",
    "print(\"the accuracy: %.4f \"%accuracy_score(y_test,y_pre))\n",
    "\n",
    "\n",
    "#the best method for this case is random forests because it "
   ]
  },
  {
   "cell_type": "code",
   "execution_count": 291,
   "id": "e1e26abe",
   "metadata": {},
   "outputs": [
    {
     "name": "stdout",
     "output_type": "stream",
     "text": [
      "\n",
      "classification report :\n",
      "\n",
      "               precision    recall  f1-score   support\n",
      "\n",
      "   malignant       0.96      0.92      0.94        48\n",
      "      benign       0.96      0.98      0.97        99\n",
      "\n",
      "    accuracy                           0.96       147\n",
      "   macro avg       0.96      0.95      0.95       147\n",
      "weighted avg       0.96      0.96      0.96       147\n",
      "\n",
      "the accuracy: 0.9592 \n"
     ]
    }
   ],
   "source": [
    "#Random forests\n",
    "from sklearn.ensemble import RandomForestClassifier\n",
    "\n",
    "model4 = RandomForestClassifier(max_depth=2, random_state=0)\n",
    "model4.fit(x, y)\n",
    "\n",
    "y_pre = model4.predict(x_test)\n",
    "\n",
    "#classification_report\n",
    "print(\"\\nclassification report :\\n\\n\",classification_report(y_test, y_pre, target_names=load_breast_cancer().target_names,zero_division=0))\n",
    "print(\"the accuracy: %.4f \"%accuracy_score(y_test,y_pre))\n",
    "\n",
    "#this is the method that gave the best results "
   ]
  }
 ],
 "metadata": {
  "kernelspec": {
   "display_name": "Python 3 (ipykernel)",
   "language": "python",
   "name": "python3"
  },
  "language_info": {
   "codemirror_mode": {
    "name": "ipython",
    "version": 3
   },
   "file_extension": ".py",
   "mimetype": "text/x-python",
   "name": "python",
   "nbconvert_exporter": "python",
   "pygments_lexer": "ipython3",
   "version": "3.9.12"
  }
 },
 "nbformat": 4,
 "nbformat_minor": 5
}
