{
 "cells": [
  {
   "cell_type": "code",
   "execution_count": 2,
   "id": "5df71b16",
   "metadata": {},
   "outputs": [
    {
     "name": "stdout",
     "output_type": "stream",
     "text": [
      "<class 'pandas.core.frame.DataFrame'>\n",
      "RangeIndex: 333200 entries, 0 to 333199\n",
      "Data columns (total 50 columns):\n",
      " #   Column                   Non-Null Count   Dtype  \n",
      "---  ------                   --------------   -----  \n",
      " 0   SUBJECT_ID               333200 non-null  int64  \n",
      " 1   BIRTH_YEAR               333200 non-null  int64  \n",
      " 2   GENDER_FACTOR            333200 non-null  object \n",
      " 3   RACE_FACTOR              333200 non-null  object \n",
      " 4   ETHNICITY_FACTOR         333200 non-null  object \n",
      " 5   PAYER_FACTOR             333200 non-null  object \n",
      " 6   ATOPIC_MARCH_COHORT      333200 non-null  bool   \n",
      " 7   AGE_START_YEARS          333200 non-null  float64\n",
      " 8   AGE_END_YEARS            333200 non-null  float64\n",
      " 9   SHELLFISH_ALG_START      5246 non-null    float64\n",
      " 10  SHELLFISH_ALG_END        1051 non-null    float64\n",
      " 11  FISH_ALG_START           1796 non-null    float64\n",
      " 12  FISH_ALG_END             527 non-null     float64\n",
      " 13  MILK_ALG_START           7289 non-null    float64\n",
      " 14  MILK_ALG_END             4580 non-null    float64\n",
      " 15  SOY_ALG_START            2419 non-null    float64\n",
      " 16  SOY_ALG_END              1431 non-null    float64\n",
      " 17  EGG_ALG_START            6065 non-null    float64\n",
      " 18  EGG_ALG_END              3293 non-null    float64\n",
      " 19  WHEAT_ALG_START          1146 non-null    float64\n",
      " 20  WHEAT_ALG_END            688 non-null     float64\n",
      " 21  PEANUT_ALG_START         8653 non-null    float64\n",
      " 22  PEANUT_ALG_END           2092 non-null    float64\n",
      " 23  SESAME_ALG_START         766 non-null     float64\n",
      " 24  SESAME_ALG_END           178 non-null     float64\n",
      " 25  TREENUT_ALG_START        1 non-null       float64\n",
      " 26  TREENUT_ALG_END          0 non-null       float64\n",
      " 27  WALNUT_ALG_START         704 non-null     float64\n",
      " 28  WALNUT_ALG_END           166 non-null     float64\n",
      " 29  PECAN_ALG_START          285 non-null     float64\n",
      " 30  PECAN_ALG_END            59 non-null      float64\n",
      " 31  PISTACH_ALG_START        369 non-null     float64\n",
      " 32  PISTACH_ALG_END          82 non-null      float64\n",
      " 33  ALMOND_ALG_START         386 non-null     float64\n",
      " 34  ALMOND_ALG_END           117 non-null     float64\n",
      " 35  BRAZIL_ALG_START         68 non-null      float64\n",
      " 36  BRAZIL_ALG_END           19 non-null      float64\n",
      " 37  HAZELNUT_ALG_START       253 non-null     float64\n",
      " 38  HAZELNUT_ALG_END         52 non-null      float64\n",
      " 39  CASHEW_ALG_START         561 non-null     float64\n",
      " 40  CASHEW_ALG_END           121 non-null     float64\n",
      " 41  ATOPIC_DERM_START        49515 non-null   float64\n",
      " 42  ATOPIC_DERM_END          41732 non-null   float64\n",
      " 43  ALLERGIC_RHINITIS_START  55567 non-null   float64\n",
      " 44  ALLERGIC_RHINITIS_END    25326 non-null   float64\n",
      " 45  ASTHMA_START             63874 non-null   float64\n",
      " 46  ASTHMA_END               25465 non-null   float64\n",
      " 47  FIRST_ASTHMARX           117550 non-null  float64\n",
      " 48  LAST_ASTHMARX            117550 non-null  float64\n",
      " 49  NUM_ASTHMARX             117550 non-null  float64\n",
      "dtypes: bool(1), float64(43), int64(2), object(4)\n",
      "memory usage: 124.9+ MB\n"
     ]
    }
   ],
   "source": [
    "import pandas as pd \n",
    "import numpy as np \n",
    "\n",
    "dt = pd.read_csv(\"./food-allergy-analysis-Zenodo.csv\")\n",
    "dt.info()\n",
    "\n"
   ]
  },
  {
   "cell_type": "code",
   "execution_count": 3,
   "id": "1aa9c477",
   "metadata": {},
   "outputs": [
    {
     "name": "stdout",
     "output_type": "stream",
     "text": [
      "<class 'pandas.core.frame.DataFrame'>\n",
      "Int64Index: 44006 entries, 2 to 333198\n",
      "Data columns (total 9 columns):\n",
      " #   Column               Non-Null Count  Dtype  \n",
      "---  ------               --------------  -----  \n",
      " 0   SUBJECT_ID           44006 non-null  int64  \n",
      " 1   BIRTH_YEAR           44006 non-null  int64  \n",
      " 2   GENDER_FACTOR        44006 non-null  int32  \n",
      " 3   RACE_FACTOR          44006 non-null  int32  \n",
      " 4   ETHNICITY_FACTOR     44006 non-null  int32  \n",
      " 5   PAYER_FACTOR         44006 non-null  int32  \n",
      " 6   ATOPIC_MARCH_COHORT  44006 non-null  int64  \n",
      " 7   AGE_START_YEARS      44006 non-null  float64\n",
      " 8   AGE_END_YEARS        44006 non-null  float64\n",
      "dtypes: float64(2), int32(4), int64(3)\n",
      "memory usage: 2.7 MB\n"
     ]
    }
   ],
   "source": [
    "from sklearn.preprocessing import LabelEncoder\n",
    "# converting all the data into numurical variables & cleaning \n",
    "\n",
    "dt.dropna(axis=1,inplace=True)\n",
    "l = LabelEncoder()\n",
    "ndt = pd.DataFrame(columns=list(dt.columns))\n",
    "for column in dt.columns :\n",
    "    if dt[column].dtype == object or dt[column].dtype == bool :\n",
    "        dt[column] = l.fit_transform(dt[column])  \n",
    "    ndt[column] = (dt[column] - dt[column].mean())/dt[column].std(ddof=0)\n",
    "dt = dt[(abs(ndt)>3).any(axis=1)]\n",
    "\n",
    "dt.info()"
   ]
  },
  {
   "cell_type": "code",
   "execution_count": 11,
   "id": "bb51eef7",
   "metadata": {},
   "outputs": [
    {
     "name": "stdout",
     "output_type": "stream",
     "text": [
      "the accuracy of prediction for the SUBJECT_ID varibla is  0.656036964096349\n",
      "the accuracy of prediction for the BIRTH_YEAR varibla is  0.656036964096349\n",
      "the accuracy of prediction for the GENDER_FACTOR varibla is  0.656036964096349\n",
      "the accuracy of prediction for the RACE_FACTOR varibla is  0.7910922587486744\n",
      "the accuracy of prediction for the PAYER_FACTOR varibla is  0.656036964096349\n",
      "the accuracy of prediction for the ATOPIC_MARCH_COHORT varibla is  0.9769731858809272\n",
      "the accuracy of prediction for the AGE_START_YEARS varibla is  0.8372973791849719\n",
      "the accuracy of prediction for the AGE_END_YEARS varibla is  0.7427662475382518\n"
     ]
    }
   ],
   "source": [
    "import sklearn.model_selection as skm \n",
    "from sklearn.linear_model import LogisticRegression\n",
    "import matplotlib.pyplot as plt\n",
    "from sklearn.metrics import accuracy_score\n",
    "import random \n",
    "\n",
    "#splitting the data \n",
    "# fitting the data\n",
    "\n",
    "model = LogisticRegression() \n",
    "x = dt.drop(\"ETHNICITY_FACTOR\",axis=1)\n",
    "y = dt.iloc[:,4:5].values\n",
    "for X in x : \n",
    "  x_train, x_test , y_train , y_test =  skm.train_test_split(dt[X].values.reshape(-1, 1),y.ravel(),test_size = 0.3 , random_state = 0 )\n",
    "  model.fit(x_train , y_train),1\n",
    "  pre_y = model.predict(x_test)\n",
    "  score =accuracy_score(y_test,pre_y)\n",
    "  print(\"the accuracy of prediction for the\",X,\"varibla is \",score)\n",
    "\n",
    "\n"
   ]
  }
 ],
 "metadata": {
  "kernelspec": {
   "display_name": "Python 3 (ipykernel)",
   "language": "python",
   "name": "python3"
  },
  "language_info": {
   "codemirror_mode": {
    "name": "ipython",
    "version": 3
   },
   "file_extension": ".py",
   "mimetype": "text/x-python",
   "name": "python",
   "nbconvert_exporter": "python",
   "pygments_lexer": "ipython3",
   "version": "3.9.7"
  }
 },
 "nbformat": 4,
 "nbformat_minor": 5
}
