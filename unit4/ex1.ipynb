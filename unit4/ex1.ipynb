{
 "cells": [
  {
   "cell_type": "code",
   "execution_count": 12,
   "id": "27a7f2a5",
   "metadata": {},
   "outputs": [],
   "source": [
    "from sklearn.datasets import load_digits\n",
    "from sklearn.model_selection import train_test_split \n",
    "\n",
    "x,y =load_digits(return_X_y = True )\n",
    "x_train,x_test,y_train,y_test = train_test_split(x,y,test_size =.2 )\n",
    "\n",
    "v1 = y_train.shape[0]\n",
    "v2 = y_test.shape[0]\n"
   ]
  },
  {
   "cell_type": "code",
   "execution_count": 13,
   "id": "d09c0812",
   "metadata": {},
   "outputs": [],
   "source": [
    "\n",
    "k =  np.array([[0,0,0,0,0,0,0,0,0,0] for i in range(v1)])\n",
    "k1 =  np.array([[0,0,0,0,0,0,0,0,0,0] for i in range(v2)])\n",
    "\n",
    "c = 0 \n",
    "for i in y_train:\n",
    "    k[c][i] = 1 \n",
    "    c = c + 1     \n",
    "c = 0 \n",
    "for i in y_test:\n",
    "    k1[c][i] = 1 \n",
    "    c = c + 1  \n",
    "    \n",
    "y_train = k\n",
    "y_test = k1"
   ]
  },
  {
   "cell_type": "code",
   "execution_count": 14,
   "id": "dc216626",
   "metadata": {},
   "outputs": [
    {
     "name": "stdout",
     "output_type": "stream",
     "text": [
      "shape of X_train : (1437, 64)\n",
      "shape of Y_train : (1437, 10)\n",
      "[1 0 0 0 0 0 0 0 0 0]\n"
     ]
    },
    {
     "data": {
      "image/png": "[encoded data removed]",
      "text/plain": [
       "<Figure size 288x288 with 1 Axes>"
      ]
     },
     "metadata": {
      "needs_background": "light"
     },
     "output_type": "display_data"
    }
   ],
   "source": [
    "import matplotlib.pyplot as plt\n",
    "\n",
    "print(\"shape of X_train :\", x_train.shape)\n",
    "print(\"shape of Y_train :\", y_train.shape)\n",
    "\n",
    "print(y_train[0])\n",
    "plt.matshow(x_train[0].reshape(8,8))\n",
    "plt.show()"
   ]
  },
  {
   "cell_type": "code",
   "execution_count": 15,
   "id": "b8d21647",
   "metadata": {},
   "outputs": [],
   "source": [
    "import numpy as np\n",
    "\n",
    "#activation function \n",
    "def Softmax(xp):\n",
    "    k = np.array(np.exp(xp), dtype=np.float64)\n",
    "    return k / np.sum(k , axis = 0)\n",
    "def tanh(x):\n",
    "    return np.tanh(x)\n",
    "\n",
    "def tanh_der(x):\n",
    "    return (1 - np.power(np.tanh(x), 2))\n"
   ]
  },
  {
   "cell_type": "code",
   "execution_count": 16,
   "id": "78e07233",
   "metadata": {},
   "outputs": [],
   "source": [
    "#weights initialization function \n",
    "\n",
    "#Xavier\n",
    "def Xavier(dim_in,dim_hid,dim_out) :\n",
    "    w1 = np.random.normal(0, 1/dim_in,size=(dim_hid, dim_in))\n",
    "    b1 = np.zeros((dim_hid,1))\n",
    "    w2 = np.random.normal(0, 1/ dim_hid,size=(dim_out, dim_hid))\n",
    "    b2 = np.zeros((dim_out,1))\n",
    " \n",
    "    weight = [w1,w2]\n",
    "    bias = [b1,b2]\n",
    "    return [weight,bias]"
   ]
  },
  {
   "cell_type": "code",
   "execution_count": 17,
   "id": "c5ce8be0",
   "metadata": {},
   "outputs": [],
   "source": [
    "#forward and backward passes\n",
    "\n",
    "def forward(xp,yp,params):\n",
    "    weight,bias = params[0],params[1]\n",
    "    b1,b2 = bias[0],bias[1]\n",
    "    w1,w2 = weight[0],weight[1]\n",
    "    z1 = np.dot(xp,w1.T) + b1.T\n",
    "    a1 = tanh(z1)\n",
    "    z2 = np.dot(a1,w2.T) + b2.T\n",
    "    a2 = Softmax(z2)\n",
    "    \n",
    "    cache = [z1,a1,w1,b1,z2,a2,w2,b2]\n",
    "    \n",
    "    cost = -(1/yp.shape[0])*np.sum(yp*np.log(a2))\n",
    "    return cost,cache,a2\n",
    "\n",
    "\n",
    "\n",
    "def backward(xp,yp,cache,learnRate) :\n",
    "    (z1,a1,w1,b1,z2,a2,w2,b2) = cache\n",
    "    m = xp.shape[0]\n",
    "    \n",
    "    dz2 = a2 - yp \n",
    "    dw2 = (1/m) * np.dot(dz2.T , a1)\n",
    "    db2 = (1/m) * np.sum(dz2.T,axis=1,keepdims=True)\n",
    "    \n",
    "    da1 = np.dot(dz2,w2)\n",
    "    dz1 = (1/m) * np.multiply(da1,tanh_der(z1))\n",
    "    dw1 = (1/m) * np.dot(dz1.T , xp)\n",
    "    db1 =  np.sum(dz1.T,axis=1,keepdims = True) * 1/m\n",
    "    \n",
    "    b1 = b1 - learnRate * db1 \n",
    "    b2 = b2 - learnRate * db2\n",
    "    w2 = w2 - learnRate * dw2 \n",
    "    w1 = w1 - learnRate * dw1\n",
    "      \n",
    "    return [[w1,w2],[b1,b2]]\n",
    "\n",
    "\n",
    "    "
   ]
  },
  {
   "cell_type": "code",
   "execution_count": 30,
   "id": "14e18d21",
   "metadata": {},
   "outputs": [],
   "source": [
    "dim_hid = 160\n",
    "\n",
    "dim_in = x_train.shape[1]\n",
    "dim_out = y_train.shape[1]\n",
    "params = Xavier(dim_in,dim_hid,dim_out) \n",
    "\n",
    "\n",
    "\n",
    "epoch = 120\n",
    "lr = .02\n",
    "losses = []\n",
    "\n",
    "for i in range(epoch):\n",
    "    l , cache , a2 = forward(x_train,y_train,params)\n",
    "    losses.append(l)\n",
    "    params = backward(x_train,y_train,cache,lr)\n"
   ]
  },
  {
   "cell_type": "code",
   "execution_count": 31,
   "id": "4e29028e",
   "metadata": {},
   "outputs": [
    {
     "data": {
      "image/png": "[encoded data removed]",
      "text/plain": [
       "<Figure size 432x288 with 1 Axes>"
      ]
     },
     "metadata": {
      "needs_background": "light"
     },
     "output_type": "display_data"
    }
   ],
   "source": [
    "import matplotlib.pyplot as plt\n",
    "plt.figure()\n",
    "plt.plot(np.arange(0, epoch),losses)\n",
    "plt.xlabel('epoch')\n",
    "plt.ylabel('loss')\n",
    "plt.show()\n"
   ]
  },
  {
   "cell_type": "code",
   "execution_count": 32,
   "id": "f87c423e",
   "metadata": {},
   "outputs": [
    {
     "name": "stdout",
     "output_type": "stream",
     "text": [
      "0.9027777777777778\n"
     ]
    }
   ],
   "source": [
    "from sklearn.metrics import accuracy_score,confusion_matrix\n",
    "\n",
    "cost,_,a2 = forward(x_test,y_test,params)\n",
    "y_pred=np.argmax(a2 ,axis=1)\n",
    "y_true=np.argmax(y_test, axis=1)\n",
    "\n",
    "\n",
    "print(accuracy_score(y_true, y_pred))\n",
    "\n"
   ]
  }
 ],
 "metadata": {
  "kernelspec": {
   "display_name": "Python 3 (ipykernel)",
   "language": "python",
   "name": "python3"
  },
  "language_info": {
   "codemirror_mode": {
    "name": "ipython",
    "version": 3
   },
   "file_extension": ".py",
   "mimetype": "text/x-python",
   "name": "python",
   "nbconvert_exporter": "python",
   "pygments_lexer": "ipython3",
   "version": "3.9.12"
  }
 },
 "nbformat": 4,
 "nbformat_minor": 5
}
