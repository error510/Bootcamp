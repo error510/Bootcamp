{
 "cells": [
  {
   "cell_type": "code",
   "execution_count": 1,
   "id": "83c74b3f",
   "metadata": {},
   "outputs": [],
   "source": [
    "import tensorflow as tf\n",
    "import numpy as np\n",
    "\n",
    "(x_train, y_train), (x_test, y_test) = tf.keras.datasets.mnist.load_data()\n"
   ]
  },
  {
   "cell_type": "code",
   "execution_count": 2,
   "id": "8e6e2306",
   "metadata": {},
   "outputs": [
    {
     "name": "stdout",
     "output_type": "stream",
     "text": [
      "X_train: (60000, 784)\n",
      "Y_train: (60000, 10)\n",
      "X_test: (10000, 784)\n",
      "Y_test: (10000, 10)\n"
     ]
    }
   ],
   "source": [
    "x_train = x_train.reshape(60000, 28*28)\n",
    "x_test = x_test.reshape(10000, 28*28)\n",
    "y_train = tf.keras.utils.to_categorical(y_train, 10)\n",
    "y_test = tf.keras.utils.to_categorical(y_test, 10)\n",
    "\n",
    "print('X_train:' , x_train.shape)\n",
    "print('Y_train:' , y_train.shape)\n",
    "print('X_test:'  , x_test.shape)\n",
    "print('Y_test:'  , y_test.shape)\n",
    "\n"
   ]
  },
  {
   "cell_type": "code",
   "execution_count": 3,
   "id": "6c7feedc",
   "metadata": {},
   "outputs": [
    {
     "data": {
      "image/png": "[encoded data removed]",
      "text/plain": [
       "<Figure size 432x288 with 1 Axes>"
      ]
     },
     "metadata": {
      "needs_background": "light"
     },
     "output_type": "display_data"
    },
    {
     "name": "stdout",
     "output_type": "stream",
     "text": [
      "[0. 0. 0. 0. 0. 0. 0. 0. 1. 0.]\n"
     ]
    }
   ],
   "source": [
    "from matplotlib import pyplot\n",
    "pyplot.imshow(x_train.reshape(60000,-28,28)[17], cmap='gray')\n",
    "pyplot.show()\n",
    "print(y_train[17])"
   ]
  },
  {
   "cell_type": "code",
   "execution_count": 4,
   "id": "d090b0bf",
   "metadata": {},
   "outputs": [],
   "source": [
    "from tensorflow.keras import layers\n",
    "\n",
    "def Model():\n",
    "    layer1 = layers.Dense(200,activation=\"tanh\",use_bias=True,kernel_initializer=\"glorot_normal\"\n",
    "                      ,bias_initializer=\"zeros\" , input_shape = (x_train.shape[1],))\n",
    "    layer2 = layers.Dense(100,activation=\"tanh\",use_bias=True,kernel_initializer=\"glorot_normal\"\n",
    "                      ,bias_initializer=\"zeros\")\n",
    "    layer3 = layers.Dense(10,activation=\"softmax\",use_bias=True,kernel_initializer=\"glorot_normal\"\n",
    "                      ,bias_initializer=\"zeros\")\n",
    "\n",
    "    return tf.keras.Sequential([layer1,layer2,layer3])\n"
   ]
  },
  {
   "cell_type": "code",
   "execution_count": 17,
   "id": "fa4ed88e",
   "metadata": {},
   "outputs": [],
   "source": [
    " callback = [tf.keras.callbacks.TensorBoard(log_dir='./tb_logs1' ,histogram_freq = 1,write_graph=True,\n",
    "                        write_images=True,update_freq=\"epochs\"\n",
    "                        ,profile_batch=2,embeddings_freq=1)]"
   ]
  },
  {
   "cell_type": "code",
   "execution_count": 18,
   "id": "ea7fb62d",
   "metadata": {},
   "outputs": [
    {
     "name": "stdout",
     "output_type": "stream",
     "text": [
      "Epoch 1/25\n",
      "1875/1875 [==============================] - 3s 1ms/step - loss: 0.6447 - accuracy: 0.8163\n",
      "Epoch 2/25\n",
      "1875/1875 [==============================] - 2s 1ms/step - loss: 0.4325 - accuracy: 0.8732\n",
      "Epoch 3/25\n",
      "1875/1875 [==============================] - 2s 1ms/step - loss: 0.3890 - accuracy: 0.8845\n",
      "Epoch 4/25\n",
      "1875/1875 [==============================] - 2s 1ms/step - loss: 0.3543 - accuracy: 0.8928\n",
      "Epoch 5/25\n",
      "1875/1875 [==============================] - 2s 1ms/step - loss: 0.3203 - accuracy: 0.9035\n",
      "Epoch 6/25\n",
      "1875/1875 [==============================] - 2s 1ms/step - loss: 0.2944 - accuracy: 0.9123\n",
      "Epoch 7/25\n",
      "1875/1875 [==============================] - 2s 1ms/step - loss: 0.2832 - accuracy: 0.9148\n",
      "Epoch 8/25\n",
      "1875/1875 [==============================] - 2s 1ms/step - loss: 0.2709 - accuracy: 0.9171\n",
      "Epoch 9/25\n",
      "1875/1875 [==============================] - 2s 1ms/step - loss: 0.2548 - accuracy: 0.9229\n",
      "Epoch 10/25\n",
      "1875/1875 [==============================] - 2s 1ms/step - loss: 0.2401 - accuracy: 0.9273\n",
      "Epoch 11/25\n",
      "1875/1875 [==============================] - 2s 1ms/step - loss: 0.2331 - accuracy: 0.9296\n",
      "Epoch 12/25\n",
      "1875/1875 [==============================] - 2s 1ms/step - loss: 0.2225 - accuracy: 0.9325\n",
      "Epoch 13/25\n",
      "1875/1875 [==============================] - 2s 1ms/step - loss: 0.2173 - accuracy: 0.9340\n",
      "Epoch 14/25\n",
      "1875/1875 [==============================] - 2s 1ms/step - loss: 0.2028 - accuracy: 0.9384\n",
      "Epoch 15/25\n",
      "1875/1875 [==============================] - 2s 1ms/step - loss: 0.1964 - accuracy: 0.9409\n",
      "Epoch 16/25\n",
      "1875/1875 [==============================] - 2s 1ms/step - loss: 0.1867 - accuracy: 0.9431\n",
      "Epoch 17/25\n",
      "1875/1875 [==============================] - 2s 1ms/step - loss: 0.1845 - accuracy: 0.9438\n",
      "Epoch 18/25\n",
      "1875/1875 [==============================] - 2s 1ms/step - loss: 0.1792 - accuracy: 0.9463\n",
      "Epoch 19/25\n",
      "1875/1875 [==============================] - 2s 1ms/step - loss: 0.1755 - accuracy: 0.9467\n",
      "Epoch 20/25\n",
      "1875/1875 [==============================] - 2s 1ms/step - loss: 0.1694 - accuracy: 0.9489\n",
      "Epoch 21/25\n",
      "1875/1875 [==============================] - 2s 1ms/step - loss: 0.1681 - accuracy: 0.9492\n",
      "Epoch 22/25\n",
      "1875/1875 [==============================] - 2s 1ms/step - loss: 0.1655 - accuracy: 0.9493\n",
      "Epoch 23/25\n",
      "1875/1875 [==============================] - 2s 1ms/step - loss: 0.1621 - accuracy: 0.9509\n",
      "Epoch 24/25\n",
      "1875/1875 [==============================] - 2s 1ms/step - loss: 0.1579 - accuracy: 0.9520\n",
      "Epoch 25/25\n",
      "1875/1875 [==============================] - 2s 1ms/step - loss: 0.1549 - accuracy: 0.9530\n"
     ]
    }
   ],
   "source": [
    "from keras import losses,metrics,optimizers\n",
    "\n",
    "model = Model()\n",
    "\n",
    "lr = tf.keras.optimizers.schedules.ExponentialDecay(\n",
    "    initial_learning_rate=0.01,\n",
    "    decay_steps=10000,\n",
    "    decay_rate=0.5)\n",
    "\n",
    "sgd = tf.keras.optimizers.SGD(learning_rate=lr)\n",
    "\n",
    "model.compile(loss = tf.keras.losses.CategoricalCrossentropy(),  \n",
    "   optimizer = sgd , metrics = [\"accuracy\"])\n",
    "result = model.fit(x_train,y_train,epochs = 25,callbacks=callback)"
   ]
  },
  {
   "cell_type": "code",
   "execution_count": 19,
   "id": "be690a00",
   "metadata": {},
   "outputs": [
    {
     "name": "stdout",
     "output_type": "stream",
     "text": [
      "Model: \"sequential_2\"\n",
      "_________________________________________________________________\n",
      " Layer (type)                Output Shape              Param #   \n",
      "=================================================================\n",
      " dense_6 (Dense)             (None, 200)               157000    \n",
      "                                                                 \n",
      " dense_7 (Dense)             (None, 100)               20100     \n",
      "                                                                 \n",
      " dense_8 (Dense)             (None, 10)                1010      \n",
      "                                                                 \n",
      "=================================================================\n",
      "Total params: 178,110\n",
      "Trainable params: 178,110\n",
      "Non-trainable params: 0\n",
      "_________________________________________________________________\n",
      "None\n"
     ]
    }
   ],
   "source": [
    "print(model.summary())"
   ]
  },
  {
   "cell_type": "code",
   "execution_count": 20,
   "id": "11c27b18",
   "metadata": {},
   "outputs": [
    {
     "name": "stdout",
     "output_type": "stream",
     "text": [
      "The tensorboard extension is already loaded. To reload it, use:\n",
      "  %reload_ext tensorboard\n"
     ]
    }
   ],
   "source": [
    "%load_ext tensorboard"
   ]
  },
  {
   "cell_type": "code",
   "execution_count": 21,
   "id": "a01eb51d",
   "metadata": {},
   "outputs": [
    {
     "data": {
      "text/plain": [
       "Reusing TensorBoard on port 6006 (pid 21644), started 0:01:16 ago. (Use '!kill 21644' to kill it.)"
      ]
     },
     "metadata": {},
     "output_type": "display_data"
    },
    {
     "data": {
      "text/html": [
       "\n",
       "      <iframe id=\"tensorboard-frame-d4cf42acd541f870\" width=\"100%\" height=\"800\" frameborder=\"0\">\n",
       "      </iframe>\n",
       "      <script>\n",
       "        (function() {\n",
       "          const frame = document.getElementById(\"tensorboard-frame-d4cf42acd541f870\");\n",
       "          const url = new URL(\"/\", window.location);\n",
       "          const port = 6006;\n",
       "          if (port) {\n",
       "            url.port = port;\n",
       "          }\n",
       "          frame.src = url;\n",
       "        })();\n",
       "      </script>\n",
       "    "
      ],
      "text/plain": [
       "<IPython.core.display.HTML object>"
      ]
     },
     "metadata": {},
     "output_type": "display_data"
    }
   ],
   "source": [
    "%tensorboard --logdir ./tb_logs --host localhost"
   ]
  },
  {
   "cell_type": "code",
   "execution_count": 22,
   "id": "d164f4a7",
   "metadata": {},
   "outputs": [
    {
     "name": "stdout",
     "output_type": "stream",
     "text": [
      "313/313 [==============================] - 0s 955us/step - loss: 0.1749 - accuracy: 0.9466\n"
     ]
    }
   ],
   "source": [
    "test = model.evaluate(x_test,y_test)"
   ]
  },
  {
   "cell_type": "code",
   "execution_count": 23,
   "id": "12db09de",
   "metadata": {},
   "outputs": [
    {
     "name": "stdout",
     "output_type": "stream",
     "text": [
      "loss : 0.1748974621295929 accuracy : 0.9466000199317932\n"
     ]
    }
   ],
   "source": [
    "print(\"loss :\" , test[0] , \"accuracy :\", test[1])"
   ]
  },
  {
   "cell_type": "code",
   "execution_count": 24,
   "id": "6b33aedd",
   "metadata": {},
   "outputs": [],
   "source": [
    "model.save_weights('./checkPoint.cpkt')"
   ]
  }
 ],
 "metadata": {
  "kernelspec": {
   "display_name": "Python 3 (ipykernel)",
   "language": "python",
   "name": "python3"
  },
  "language_info": {
   "codemirror_mode": {
    "name": "ipython",
    "version": 3
   },
   "file_extension": ".py",
   "mimetype": "text/x-python",
   "name": "python",
   "nbconvert_exporter": "python",
   "pygments_lexer": "ipython3",
   "version": "3.9.12"
  }
 },
 "nbformat": 4,
 "nbformat_minor": 5
}
